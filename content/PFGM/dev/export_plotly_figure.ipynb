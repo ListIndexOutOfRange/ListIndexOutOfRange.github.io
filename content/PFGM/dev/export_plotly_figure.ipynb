{
 "cells": [
  {
   "cell_type": "code",
   "execution_count": 1,
   "metadata": {},
   "outputs": [],
   "source": [
    "from pathlib import Path\n",
    "import numpy as np\n",
    "from plotly_figures import loadmat, normalize, interactive_plot"
   ]
  },
  {
   "cell_type": "code",
   "execution_count": 2,
   "metadata": {},
   "outputs": [],
   "source": [
    "def load_matlab_pointcloud(path: Path) -> np.ndarray:\n",
    "    pointcloud = loadmat(path)\n",
    "    centriole = pointcloud[\"centriole\"]\n",
    "    coordinates = centriole[:, :3]\n",
    "    return normalize(coordinates)\n",
    "\n",
    "\n",
    "def load_template_pointcloud(template_path: Path) -> np.ndarray:\n",
    "    template_pointcloud = np.loadtxt(template_path, delimiter=',')\n",
    "    pointcloud = resample(template_pointcloud, sample_factor=5)\n",
    "    return normalize(pointcloud)\n",
    "\n",
    "\n",
    "def resample(point_cloud: np.ndarray, sample_factor: int = 10) -> np.ndarray:\n",
    "    \"\"\" Uniformly sample a list of points by a factor given by sample_factor,\n",
    "    that is keep one point every sample_factor points.\n",
    "\n",
    "    Args:\n",
    "        point_cloud (np.ndarray): List of points, of shape (num_points, 3).\n",
    "        sample_factor (int): By which factor to divide the number of points.\n",
    "\n",
    "    Returns:\n",
    "        (np.ndarray): Sampled list of points, of shape ((num_points//sample_factor) + 1, 3).\n",
    "    \"\"\"\n",
    "    num_points = point_cloud.shape[0]\n",
    "    indexes_to_keep = list(filter(lambda i: i % sample_factor == 0, range(num_points)))\n",
    "    return point_cloud[indexes_to_keep]"
   ]
  },
  {
   "cell_type": "code",
   "execution_count": 3,
   "metadata": {},
   "outputs": [],
   "source": [
    "template_path = \"./assets/data/sample_centriole_point_cloud.csv\"\n",
    "pointcloud = load_template_pointcloud(template_path)"
   ]
  },
  {
   "cell_type": "code",
   "execution_count": 4,
   "metadata": {},
   "outputs": [],
   "source": [
    "figure = interactive_plot(pointcloud, return_fig=True, point_size=1)"
   ]
  },
  {
   "cell_type": "code",
   "execution_count": 5,
   "metadata": {},
   "outputs": [],
   "source": [
    "# figure.write_html(\"./test/assets/plotly/template_pointcloud.html\")"
   ]
  },
  {
   "cell_type": "code",
   "execution_count": 6,
   "metadata": {},
   "outputs": [],
   "source": [
    "samples_path = Path(\"/home/vedrenne/Documents/These/Data/particles_dStorm\")"
   ]
  },
  {
   "cell_type": "code",
   "execution_count": 12,
   "metadata": {},
   "outputs": [],
   "source": [
    "idx = 2\n",
    "idx_absolute = (4, 44, 22)\n",
    "path = samples_path / f\"sample_{idx_absolute[idx]}.mat\"\n",
    "pointcloud = load_matlab_pointcloud(path)\n",
    "figure = interactive_plot(pointcloud, return_fig=True, point_size=1)"
   ]
  },
  {
   "cell_type": "code",
   "execution_count": 13,
   "metadata": {},
   "outputs": [],
   "source": [
    "figure.write_html(\"./assets/plotly/sample3_pointcloud.html\")"
   ]
  },
  {
   "cell_type": "code",
   "execution_count": null,
   "metadata": {},
   "outputs": [],
   "source": []
  },
  {
   "cell_type": "code",
   "execution_count": null,
   "metadata": {},
   "outputs": [],
   "source": []
  },
  {
   "cell_type": "code",
   "execution_count": null,
   "metadata": {},
   "outputs": [],
   "source": []
  },
  {
   "cell_type": "code",
   "execution_count": null,
   "metadata": {},
   "outputs": [],
   "source": []
  },
  {
   "cell_type": "code",
   "execution_count": null,
   "metadata": {},
   "outputs": [],
   "source": []
  }
 ],
 "metadata": {
  "kernelspec": {
   "display_name": "Python 3",
   "language": "python",
   "name": "python3"
  },
  "language_info": {
   "codemirror_mode": {
    "name": "ipython",
    "version": 3
   },
   "file_extension": ".py",
   "mimetype": "text/x-python",
   "name": "python",
   "nbconvert_exporter": "python",
   "pygments_lexer": "ipython3",
   "version": "3.10.9"
  },
  "orig_nbformat": 4
 },
 "nbformat": 4,
 "nbformat_minor": 2
}
